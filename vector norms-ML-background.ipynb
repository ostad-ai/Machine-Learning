{
 "cells": [
  {
   "cell_type": "markdown",
   "id": "232e5515",
   "metadata": {},
   "source": [
    "### Machine Learning (Background): Vector p-norms\n",
    "$\\lVert \\mathbf{v} \\rVert_p=(\\lvert v_1\\rvert^p+\\lvert v_2\\rvert^p+\\ldots+\n",
    "\\lvert v_n\\rvert^p)^\\frac{1}{p}$\n",
    "###### by Hamed Shah-Hosseini\n",
    "Explanation at: https://www.pinterest.com/HamedShahHosseini/Machine-Learning/Background-Knowledge\n",
    "<br>Explanation in Persian: https://www.instagram.com/words.persian\n",
    "<br>Code that: https://github.com/ostad-ai/Machine-Learning"
   ]
  },
  {
   "cell_type": "code",
   "execution_count": 82,
   "id": "b5f0a6f3",
   "metadata": {},
   "outputs": [],
   "source": [
    "# importing modules\n",
    "# درون‌بَری سَنجانه‌ها\n",
    "import numpy as np\n",
    "from matplotlib import pyplot as plt"
   ]
  },
  {
   "cell_type": "code",
   "execution_count": 81,
   "id": "4a83fab7",
   "metadata": {},
   "outputs": [
    {
     "data": {
      "image/png": "[encoded data removed]",
      "text/plain": [
       "<Figure size 864x288 with 3 Axes>"
      ]
     },
     "metadata": {
      "needs_background": "light"
     },
     "output_type": "display_data"
    }
   ],
   "source": [
    "# showing special p-norms as images\n",
    "# نمایش پ-هنجارهای ویژه به نشان پنداره‌ها\n",
    "x=np.arange(-50,50,.5)\n",
    "y=np.arange(-50,50,.5)\n",
    "X,Y=np.meshgrid(x,y,indexing='ij')\n",
    "points = np.vstack([X.reshape(-1), Y.reshape(-1)]).T\n",
    "plt.figure(figsize=(12,4))\n",
    "ords=[1,2,np.inf]\n",
    "titles=['1-norm','2-norm','inf-norm']\n",
    "for i in range(len(ords)):\n",
    "    plt.subplot(1,3,i+1); plt.title(titles[i])\n",
    "    norms = np.linalg.norm(points, ord=ords[i],axis=1)\n",
    "    norms=norms.reshape(X.shape)\n",
    "    plt.imshow(norms,cmap=plt.cm.Accent,\n",
    "               origin='lower',extent=[-5,5,-5,5])\n",
    "plt.show()"
   ]
  },
  {
   "cell_type": "code",
   "execution_count": null,
   "id": "f03b778a",
   "metadata": {},
   "outputs": [],
   "source": []
  }
 ],
 "metadata": {
  "kernelspec": {
   "display_name": "Python 3",
   "language": "python",
   "name": "python3"
  },
  "language_info": {
   "codemirror_mode": {
    "name": "ipython",
    "version": 3
   },
   "file_extension": ".py",
   "mimetype": "text/x-python",
   "name": "python",
   "nbconvert_exporter": "python",
   "pygments_lexer": "ipython3",
   "version": "3.8.15"
  }
 },
 "nbformat": 4,
 "nbformat_minor": 5
}

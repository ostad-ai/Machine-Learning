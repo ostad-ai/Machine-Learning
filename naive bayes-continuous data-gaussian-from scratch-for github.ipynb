{
 "cells": [
  {
   "cell_type": "markdown",
   "id": "b4454654",
   "metadata": {},
   "source": [
    "### Machine Learning: naive Bayes classifier for continuous data from scratch in Python\n",
    "$P(C_k|\\textbf{x})\\propto P(C_k) P(\\textbf{x}|C_k)$\n",
    "###### by Hamed Shah-Hosseini\n",
    "Explanation at: https://www.pinterest.com/HamedShahHosseini/\n",
    "<br>https://github.com/ostad-ai/Machine-Learning"
   ]
  },
  {
   "cell_type": "code",
   "execution_count": 18,
   "id": "50b8a8b6",
   "metadata": {},
   "outputs": [],
   "source": [
    "import pandas as pd\n",
    "from math import pi,sqrt,exp"
   ]
  },
  {
   "cell_type": "code",
   "execution_count": 19,
   "id": "31065e4c",
   "metadata": {},
   "outputs": [
    {
     "name": "stdout",
     "output_type": "stream",
     "text": [
      "Number of samples in dataset:150\n",
      "Number of classes: 3\n",
      "Features:['Sepal-length', ' Sepal-width', 'Petal-length', 'Petal-width']\n"
     ]
    }
   ],
   "source": [
    "# Reading dataset\n",
    "iris=pd.read_csv('./datasets/iris-uci.csv')\n",
    "print(f'Number of samples in dataset:{len(iris)}')\n",
    "print(f'Number of classes: {iris[\"Class\"].unique().shape[0]}')\n",
    "print(f'Features:{iris.columns[:-1].to_list()}')"
   ]
  },
  {
   "cell_type": "code",
   "execution_count": 20,
   "id": "d8583f14",
   "metadata": {},
   "outputs": [
    {
     "data": {
      "text/html": [
       "<div>\n",
       "<style scoped>\n",
       "    .dataframe tbody tr th:only-of-type {\n",
       "        vertical-align: middle;\n",
       "    }\n",
       "\n",
       "    .dataframe tbody tr th {\n",
       "        vertical-align: top;\n",
       "    }\n",
       "\n",
       "    .dataframe thead th {\n",
       "        text-align: right;\n",
       "    }\n",
       "</style>\n",
       "<table border=\"1\" class=\"dataframe\">\n",
       "  <thead>\n",
       "    <tr style=\"text-align: right;\">\n",
       "      <th></th>\n",
       "      <th>Sepal-length</th>\n",
       "      <th>Sepal-width</th>\n",
       "      <th>Petal-length</th>\n",
       "      <th>Petal-width</th>\n",
       "      <th>Class</th>\n",
       "    </tr>\n",
       "  </thead>\n",
       "  <tbody>\n",
       "    <tr>\n",
       "      <th>0</th>\n",
       "      <td>5.1</td>\n",
       "      <td>3.5</td>\n",
       "      <td>1.4</td>\n",
       "      <td>0.2</td>\n",
       "      <td>Iris-setosa</td>\n",
       "    </tr>\n",
       "    <tr>\n",
       "      <th>1</th>\n",
       "      <td>4.9</td>\n",
       "      <td>3.0</td>\n",
       "      <td>1.4</td>\n",
       "      <td>0.2</td>\n",
       "      <td>Iris-setosa</td>\n",
       "    </tr>\n",
       "    <tr>\n",
       "      <th>2</th>\n",
       "      <td>4.7</td>\n",
       "      <td>3.2</td>\n",
       "      <td>1.3</td>\n",
       "      <td>0.2</td>\n",
       "      <td>Iris-setosa</td>\n",
       "    </tr>\n",
       "    <tr>\n",
       "      <th>3</th>\n",
       "      <td>4.6</td>\n",
       "      <td>3.1</td>\n",
       "      <td>1.5</td>\n",
       "      <td>0.2</td>\n",
       "      <td>Iris-setosa</td>\n",
       "    </tr>\n",
       "    <tr>\n",
       "      <th>4</th>\n",
       "      <td>5.0</td>\n",
       "      <td>3.6</td>\n",
       "      <td>1.4</td>\n",
       "      <td>0.2</td>\n",
       "      <td>Iris-setosa</td>\n",
       "    </tr>\n",
       "  </tbody>\n",
       "</table>\n",
       "</div>"
      ],
      "text/plain": [
       "   Sepal-length   Sepal-width  Petal-length  Petal-width        Class\n",
       "0           5.1           3.5           1.4          0.2  Iris-setosa\n",
       "1           4.9           3.0           1.4          0.2  Iris-setosa\n",
       "2           4.7           3.2           1.3          0.2  Iris-setosa\n",
       "3           4.6           3.1           1.5          0.2  Iris-setosa\n",
       "4           5.0           3.6           1.4          0.2  Iris-setosa"
      ]
     },
     "execution_count": 20,
     "metadata": {},
     "output_type": "execute_result"
    }
   ],
   "source": [
    "# The first five rows of dataset\n",
    "iris.head()"
   ]
  },
  {
   "cell_type": "code",
   "execution_count": 27,
   "id": "37b96427",
   "metadata": {},
   "outputs": [],
   "source": [
    "# Naive Bayes for continuous data\n",
    "class NBContinuous:\n",
    "    def __init__(self):\n",
    "        pass\n",
    "    def fit(self,data_frame,class_column):\n",
    "        df=data_frame\n",
    "        self.groups_m_v=df.groupby(class_column).agg(['mean','var'])\n",
    "        self.features=df.columns.to_list()\n",
    "        self.features.remove(class_column)\n",
    "        self.priors=(pd.value_counts(df[class_column])/len(df)).to_dict() #prior  \n",
    "        self.cNames=df[class_column].unique() #class categories\n",
    "    def gaussian(self,x,mean,var):\n",
    "        return (1./sqrt(2*pi*var))*exp(-(x-mean)**2/(2*var))\n",
    "    def predict(self,query,with_priors=True):\n",
    "        probs_classes=dict()        \n",
    "        for cName in self.cNames:\n",
    "            if with_priors:\n",
    "                prob=self.priors[cName]\n",
    "            else:\n",
    "                prob=1.\n",
    "            for q,feature in zip(query,self.features):\n",
    "                    mean=self.groups_m_v.loc[cName][feature]['mean']\n",
    "                    var=self.groups_m_v.loc[cName][feature]['var']\n",
    "                    prob*=self.gaussian(q,mean,var) \n",
    "            probs_classes[cName]=prob\n",
    "        predict=max(probs_classes,key=probs_classes.get)\n",
    "        return predict,probs_classes"
   ]
  },
  {
   "cell_type": "code",
   "execution_count": 28,
   "id": "15ae913b",
   "metadata": {},
   "outputs": [
    {
     "name": "stdout",
     "output_type": "stream",
     "text": [
      "Accuracy:% 96.67\n"
     ]
    },
    {
     "data": {
      "text/html": [
       "<div>\n",
       "<style scoped>\n",
       "    .dataframe tbody tr th:only-of-type {\n",
       "        vertical-align: middle;\n",
       "    }\n",
       "\n",
       "    .dataframe tbody tr th {\n",
       "        vertical-align: top;\n",
       "    }\n",
       "\n",
       "    .dataframe thead th {\n",
       "        text-align: right;\n",
       "    }\n",
       "</style>\n",
       "<table border=\"1\" class=\"dataframe\">\n",
       "  <thead>\n",
       "    <tr style=\"text-align: right;\">\n",
       "      <th></th>\n",
       "      <th>Iris-setosa</th>\n",
       "      <th>Iris-versicolor</th>\n",
       "      <th>Iris-virginica</th>\n",
       "    </tr>\n",
       "  </thead>\n",
       "  <tbody>\n",
       "    <tr>\n",
       "      <th>Iris-setosa</th>\n",
       "      <td>13</td>\n",
       "      <td>0</td>\n",
       "      <td>0</td>\n",
       "    </tr>\n",
       "    <tr>\n",
       "      <th>Iris-versicolor</th>\n",
       "      <td>0</td>\n",
       "      <td>8</td>\n",
       "      <td>1</td>\n",
       "    </tr>\n",
       "    <tr>\n",
       "      <th>Iris-virginica</th>\n",
       "      <td>0</td>\n",
       "      <td>0</td>\n",
       "      <td>8</td>\n",
       "    </tr>\n",
       "  </tbody>\n",
       "</table>\n",
       "</div>"
      ],
      "text/plain": [
       "                 Iris-setosa  Iris-versicolor  Iris-virginica\n",
       "Iris-setosa               13                0               0\n",
       "Iris-versicolor            0                8               1\n",
       "Iris-virginica             0                0               8"
      ]
     },
     "execution_count": 28,
     "metadata": {},
     "output_type": "execute_result"
    }
   ],
   "source": [
    "# Experiment with the Naive Baye's Classifier\n",
    "classCol='Class'\n",
    "class_names=list(iris[classCol].unique())\n",
    "# Splitting dataset into training and test sets\n",
    "iris_train=iris.sample(frac=.8)\n",
    "iris_test=iris.drop(iris_train.index)\n",
    "Nts=iris_test.shape[0] #number of test samples\n",
    "columns=iris.columns.to_list()\n",
    "classCol_inx=columns.index(classCol)\n",
    "nbayes=NBContinuous()\n",
    "# Training with training set\n",
    "nbayes.fit(iris_train,classCol)\n",
    "# Testing with test set\n",
    "accuracy=0.; actuals=[]; predicteds=[]\n",
    "for n in range(Nts):\n",
    "    query=iris_test.iloc[n].to_list()\n",
    "    #remove the value of class column\n",
    "    class_q=query.pop(classCol_inx)\n",
    "    actuals.append(class_q)\n",
    "    predicted=nbayes.predict(query)[0]\n",
    "    predicteds.append(predicted)\n",
    "    accuracy+=predicted==class_q\n",
    "accuracy/=Nts   \n",
    "print('Accuracy:%',round(100*accuracy,2))\n",
    "#-Computing confusion matrix\n",
    "Nclasses=len(class_names)\n",
    "confusion_mat=pd.DataFrame(0,index=class_names,\n",
    "                        columns=class_names)\n",
    "for n in range(Nts):\n",
    "    confusion_mat.loc[actuals[n],predicteds[n]]+=1\n",
    "confusion_mat\n",
    "#--Could use pd.crosstab for confusion matrix"
   ]
  },
  {
   "cell_type": "code",
   "execution_count": null,
   "id": "da82c766",
   "metadata": {},
   "outputs": [],
   "source": []
  }
 ],
 "metadata": {
  "kernelspec": {
   "display_name": "Python 3 (ipykernel)",
   "language": "python",
   "name": "python3"
  },
  "language_info": {
   "codemirror_mode": {
    "name": "ipython",
    "version": 3
   },
   "file_extension": ".py",
   "mimetype": "text/x-python",
   "name": "python",
   "nbconvert_exporter": "python",
   "pygments_lexer": "ipython3",
   "version": "3.8.10"
  }
 },
 "nbformat": 4,
 "nbformat_minor": 5
}

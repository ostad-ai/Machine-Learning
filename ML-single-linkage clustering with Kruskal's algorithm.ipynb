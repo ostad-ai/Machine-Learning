{
 "cells": [
  {
   "cell_type": "markdown",
   "id": "20fce00f",
   "metadata": {},
   "source": [
    "# Machine Learning\n",
    "### Single-linkage clustering\n",
    "**Single-linkage clustering** is an **agglomerative hierarchical** clustering that defines the distance between two clusters as the shortest distance between any pair of points—one from each cluster. \n",
    "- In other words, two clusters are considered \"close\" if at least one point in the first cluster is very near to at least one point in the second cluster. \n",
    "\n",
    "Thus, we may express single-linkage clustering as:\n",
    "1. Start with each data point as its own cluster.\n",
    "2. Repeatedly merge the two clusters that are closest, where \"closest\" means the minimum pairwise distance between any two points in the respective clusters.\n",
    "3. Continue merging until the desired number of clusters remains (or until all points are in one cluster).\n",
    "\n",
    "<hr>\n",
    "\n",
    "Key characteristics of **single-linkage clustering**: \n",
    "- **Chaining effect:** Because it only considers the nearest pair, single-linkage tends to produce long, chain-like clusters, even linking clusters that are mostly far apart but connected by a few nearby points.\n",
    "- Sensitive to **noise** and **outliers**: A single outlier close to another cluster can cause unintended merging.\n",
    "- Works well for clusters that are **elongated** or **irregularly shaped**, but performs poorly when clusters are **compact** and **overlapping** (like the versicolor and virginica classes in the Iris dataset).\n",
    "     \n",
    "<hr>\n",
    "\n",
    "In the following, we implement single-linkage clustering by the **Kruskal's algorithm** for **minimum spanning tree**. Essentially, Kruskal's algorithm and single-linkage clustering are the same. We already talked about `Kruskal's algorithm` in repository **Graph-Analysis**.\n",
    "<br> We first test the single-linkage clustering (Kruskal-based clustering) with two toy datasets. Then, we use the **iris dataset** for working with the clustering algorithm. \n",
    "<hr>\n",
    "\n",
    "**Hint:** Under single-linkage clustering, even a few nearby points between **Versicolor** and **Virginica** in iris cause the entire groups to merge early.\n",
    "<hr>\n",
    "\n",
    "<br>**Reminder:** In the Iris dataset, we have three classes: Setosa, Versicolor, and Virginica.\n",
    "- **Setosa** is well-separated from the other two classes.\n",
    "- **Versicolor** and **Virginica** overlap significantly in the 4D feature space.\n",
    "\n",
    "     \n",
    "     \n",
    "<hr>\n",
    "https://github.com/ostad-ai/Machine-Learning\n",
    "<br> Explanation: https://www.pinterest.com/HamedShahHosseini/Machine-Learning/Data-Visualization"
   ]
  },
  {
   "cell_type": "code",
   "execution_count": 2,
   "id": "3262fbac",
   "metadata": {},
   "outputs": [],
   "source": [
    "# Import required modules\n",
    "import numpy as np\n",
    "import pandas as pd\n",
    "from matplotlib import pyplot as plt"
   ]
  },
  {
   "cell_type": "code",
   "execution_count": 3,
   "id": "a68bdf1e",
   "metadata": {},
   "outputs": [],
   "source": [
    "# Define UnionFind class\n",
    "class UnionFind:\n",
    "    def __init__(self, n):\n",
    "        self.parent = np.arange(n)\n",
    "        self.rank = np.zeros(n, dtype=int)\n",
    "        self.num_clusters = n\n",
    "\n",
    "    def find(self, x):\n",
    "        if self.parent[x] != x:\n",
    "            self.parent[x] = self.find(self.parent[x])\n",
    "        return self.parent[x]\n",
    "\n",
    "    def union(self, x, y):\n",
    "        rx, ry = self.find(x), self.find(y)\n",
    "        if rx == ry:\n",
    "            return False\n",
    "        if self.rank[rx] < self.rank[ry]:\n",
    "            self.parent[rx] = ry\n",
    "        elif self.rank[rx] > self.rank[ry]:\n",
    "            self.parent[ry] = rx\n",
    "        else:\n",
    "            self.parent[ry] = rx\n",
    "            self.rank[rx] += 1\n",
    "        self.num_clusters -= 1\n",
    "        return True"
   ]
  },
  {
   "cell_type": "code",
   "execution_count": 4,
   "id": "dd667091",
   "metadata": {},
   "outputs": [],
   "source": [
    "# Define single-linkage clustering with Kruskal's\n",
    "def kruskal_clustering(points, k):\n",
    "    \"\"\"\n",
    "    Single-linkage clustering using Kruskal's algorithm.\n",
    "    \n",
    "    Parameters:\n",
    "        points : array-like, shape (n_samples, n_features)\n",
    "            Input data points.\n",
    "        k : int\n",
    "            Number of clusters (1 <= k <= n_samples)\n",
    "    \n",
    "    Returns:\n",
    "        labels : np.ndarray, shape (n_samples,)\n",
    "            Cluster labels (integers from 0 to k-1).\n",
    "    \"\"\"\n",
    "    points = np.asarray(points)\n",
    "    n = points.shape[0]\n",
    "    \n",
    "    if not (1 <= k <= n):\n",
    "        raise ValueError(\"k must be between 1 and number of points\")\n",
    "\n",
    "    if k == n:\n",
    "        return np.arange(n)\n",
    "    if k == 1:\n",
    "        return np.zeros(n, dtype=int)\n",
    "\n",
    "    # Compute all pairwise squared distances (to avoid sqrt until needed)\n",
    "    # But for clarity, we'll compute full distances\n",
    "    edges = []\n",
    "    for i in range(n):\n",
    "        # Vectorized distance from point i to all j > i\n",
    "        diffs = points[i + 1:] - points[i]\n",
    "        dists = np.linalg.norm(diffs, axis=1)\n",
    "        for j, d in enumerate(dists, start=i + 1):\n",
    "            edges.append((d, i, j))\n",
    "    \n",
    "    # Sort by distance\n",
    "    edges.sort(key=lambda x: x[0])\n",
    "\n",
    "    # Kruskal's algorithm\n",
    "    uf = UnionFind(n)\n",
    "    for dist, i, j in edges:\n",
    "        if uf.num_clusters == k:\n",
    "            break\n",
    "        uf.union(i, j)\n",
    "\n",
    "    # Assign final labels\n",
    "    roots = np.array([uf.find(i) for i in range(n)])\n",
    "    _, labels = np.unique(roots, return_inverse=True)\n",
    "    return labels"
   ]
  },
  {
   "cell_type": "code",
   "execution_count": 5,
   "id": "06857ddf",
   "metadata": {},
   "outputs": [
    {
     "name": "stdout",
     "output_type": "stream",
     "text": [
      "--- Data points and assigned clusters ---\n",
      "point=[0 0], cluster=0\n",
      "point=[1 1], cluster=0\n",
      "point=[2 2], cluster=0\n",
      "point=[10 10], cluster=1\n",
      "point=[11 11], cluster=1\n"
     ]
    }
   ],
   "source": [
    "# Simple 2D example\n",
    "points = np.array([\n",
    "    [0, 0],\n",
    "    [1, 1],\n",
    "    [2, 2],\n",
    "    [10, 10],\n",
    "    [11, 11] ])\n",
    "\n",
    "# Cluster points into two clusters\n",
    "labels = kruskal_clustering(points, k=2)\n",
    "\n",
    "# Print points and their assigned clusters\n",
    "print('--- Data points and assigned clusters ---')\n",
    "for point,label in zip(points,labels):\n",
    "    print(f'point={point}, cluster={label}')"
   ]
  },
  {
   "cell_type": "code",
   "execution_count": 6,
   "id": "edd76e32",
   "metadata": {},
   "outputs": [
    {
     "name": "stdout",
     "output_type": "stream",
     "text": [
      "Cluster 0 with 10 samples\n",
      "Cluster 1 with 10 samples\n",
      "Cluster 2 with 10 samples\n"
     ]
    },
    {
     "data": {
      "image/png": "[encoded data removed]",
      "text/plain": [
       "<Figure size 640x480 with 1 Axes>"
      ]
     },
     "metadata": {},
     "output_type": "display_data"
    }
   ],
   "source": [
    "# Example of three normal distributions\n",
    "# Three clear clusters\n",
    "cluster1 = np.random.normal([0, 0], 0.5, (10, 2))\n",
    "cluster2 = np.random.normal([5, 5], 0.5, (10, 2))  \n",
    "cluster3 = np.random.normal([0, 5], 0.5, (10, 2))\n",
    "\n",
    "points3 = np.vstack([cluster1, cluster2, cluster3])\n",
    "n_points3 = len(points3)\n",
    "#--------\n",
    "colors3=np.array(['green','orange','red'])\n",
    "labels3 = kruskal_clustering(points3, k=3)\n",
    "clusters3, nsamples3=np.unique(labels3,return_counts=True)\n",
    "for cluster, sample in zip(clusters3,nsamples3):\n",
    "    print(f'Cluster {cluster} with {sample} samples')\n",
    "plt.scatter(points3[:,0],points3[:,1],c=colors3[labels3])\n",
    "plt.title('Single-linkage clustering for three normal distributions')\n",
    "plt.show()"
   ]
  },
  {
   "cell_type": "markdown",
   "id": "869999c2",
   "metadata": {},
   "source": [
    "# Downloading Iris dataset to test our single-linkage clustering"
   ]
  },
  {
   "cell_type": "code",
   "execution_count": 7,
   "id": "7b34f654",
   "metadata": {},
   "outputs": [],
   "source": [
    "# Downlaod the iris dataset into a panda dataframe\n",
    "df=pd.read_csv(\"https://raw.githubusercontent.com/ostad-ai/Machine-Learning/refs/heads/main/iris.csv\")    "
   ]
  },
  {
   "cell_type": "code",
   "execution_count": 8,
   "id": "b0551ff0",
   "metadata": {},
   "outputs": [
    {
     "data": {
      "text/html": [
       "<div>\n",
       "<style scoped>\n",
       "    .dataframe tbody tr th:only-of-type {\n",
       "        vertical-align: middle;\n",
       "    }\n",
       "\n",
       "    .dataframe tbody tr th {\n",
       "        vertical-align: top;\n",
       "    }\n",
       "\n",
       "    .dataframe thead th {\n",
       "        text-align: right;\n",
       "    }\n",
       "</style>\n",
       "<table border=\"1\" class=\"dataframe\">\n",
       "  <thead>\n",
       "    <tr style=\"text-align: right;\">\n",
       "      <th></th>\n",
       "      <th>Sepal Length</th>\n",
       "      <th>Sepal Width</th>\n",
       "      <th>Petal Length</th>\n",
       "      <th>Petal Width</th>\n",
       "      <th>Class</th>\n",
       "    </tr>\n",
       "  </thead>\n",
       "  <tbody>\n",
       "    <tr>\n",
       "      <th>0</th>\n",
       "      <td>5.1</td>\n",
       "      <td>3.5</td>\n",
       "      <td>1.4</td>\n",
       "      <td>0.2</td>\n",
       "      <td>Iris-setosa</td>\n",
       "    </tr>\n",
       "    <tr>\n",
       "      <th>1</th>\n",
       "      <td>4.9</td>\n",
       "      <td>3.0</td>\n",
       "      <td>1.4</td>\n",
       "      <td>0.2</td>\n",
       "      <td>Iris-setosa</td>\n",
       "    </tr>\n",
       "    <tr>\n",
       "      <th>2</th>\n",
       "      <td>4.7</td>\n",
       "      <td>3.2</td>\n",
       "      <td>1.3</td>\n",
       "      <td>0.2</td>\n",
       "      <td>Iris-setosa</td>\n",
       "    </tr>\n",
       "    <tr>\n",
       "      <th>3</th>\n",
       "      <td>4.6</td>\n",
       "      <td>3.1</td>\n",
       "      <td>1.5</td>\n",
       "      <td>0.2</td>\n",
       "      <td>Iris-setosa</td>\n",
       "    </tr>\n",
       "    <tr>\n",
       "      <th>4</th>\n",
       "      <td>5.0</td>\n",
       "      <td>3.6</td>\n",
       "      <td>1.4</td>\n",
       "      <td>0.2</td>\n",
       "      <td>Iris-setosa</td>\n",
       "    </tr>\n",
       "  </tbody>\n",
       "</table>\n",
       "</div>"
      ],
      "text/plain": [
       "   Sepal Length  Sepal Width  Petal Length  Petal Width        Class\n",
       "0           5.1          3.5           1.4          0.2  Iris-setosa\n",
       "1           4.9          3.0           1.4          0.2  Iris-setosa\n",
       "2           4.7          3.2           1.3          0.2  Iris-setosa\n",
       "3           4.6          3.1           1.5          0.2  Iris-setosa\n",
       "4           5.0          3.6           1.4          0.2  Iris-setosa"
      ]
     },
     "execution_count": 8,
     "metadata": {},
     "output_type": "execute_result"
    }
   ],
   "source": [
    "df.head()"
   ]
  },
  {
   "cell_type": "markdown",
   "id": "dd8e3d0a",
   "metadata": {},
   "source": [
    "# Issue with single-linkage clustering\n",
    "Here, we use the **iris** dataset and show that **single-linkage** clustering fails to separate **overlapping** clusters.\n",
    "- In other words, single-linkage clustering cannot recover three clusters in the Iris dataset due to the overlap between **versicolor** and **virginica**."
   ]
  },
  {
   "cell_type": "code",
   "execution_count": 9,
   "id": "ffb92890",
   "metadata": {},
   "outputs": [
    {
     "name": "stdout",
     "output_type": "stream",
     "text": [
      "---Clustering of Iris into three clusters---\n",
      "No. of samples in each cluster:\n",
      "Cluster 0 with 50 samples\n",
      "Cluster 1 with 98 samples\n",
      "Cluster 2 with 2 samples\n"
     ]
    }
   ],
   "source": [
    "# Example with iris data set\n",
    "# Get the feature vectors in rows\n",
    "xs=df.values[:,:4].astype('float')\n",
    "\n",
    "# Ask the Kruskal clustering to cluster into three\n",
    "labels_iris = kruskal_clustering(xs, k=3)\n",
    "# Add a column Cluster to df for cluster labels\n",
    "df[\"Cluster\"]=labels_iris\n",
    "# See two clusters have merged into one\n",
    "print('---Clustering of Iris into three clusters---')\n",
    "print('No. of samples in each cluster:')\n",
    "clusters, nsamples=np.unique(labels_iris,return_counts=True)\n",
    "for cluster, sample in zip(clusters,nsamples):\n",
    "    print(f'Cluster {cluster} with {sample} samples')"
   ]
  },
  {
   "cell_type": "markdown",
   "id": "ba85d75c",
   "metadata": {},
   "source": [
    "# Single-linkage clustering of scikit-learn"
   ]
  },
  {
   "cell_type": "code",
   "execution_count": 10,
   "id": "99429bcb",
   "metadata": {},
   "outputs": [],
   "source": [
    "# For double-checking, uncomment the code below to see\n",
    "# the results from Scikit-learn single-linkage clustering\n",
    "# for iris dataset\n",
    "#---------------------------------\n",
    "# from sklearn.datasets import load_iris\n",
    "# from scipy.cluster.hierarchy import linkage, fcluster\n",
    "\n",
    "# iris = load_iris()\n",
    "# X = iris.data\n",
    "# Z = linkage(X, method='single')\n",
    "# labels2 = fcluster(Z, t=3, criterion='maxclust')  # force 3 clusters\n",
    "# print(np.unique(labels2, return_counts=True))\n",
    "# # only 2 clusters effectively used!"
   ]
  },
  {
   "cell_type": "code",
   "execution_count": null,
   "id": "fb49c17c",
   "metadata": {},
   "outputs": [],
   "source": []
  }
 ],
 "metadata": {
  "kernelspec": {
   "display_name": "Python 3 (ipykernel)",
   "language": "python",
   "name": "python3"
  },
  "language_info": {
   "codemirror_mode": {
    "name": "ipython",
    "version": 3
   },
   "file_extension": ".py",
   "mimetype": "text/x-python",
   "name": "python",
   "nbconvert_exporter": "python",
   "pygments_lexer": "ipython3",
   "version": "3.11.1"
  }
 },
 "nbformat": 4,
 "nbformat_minor": 5
}

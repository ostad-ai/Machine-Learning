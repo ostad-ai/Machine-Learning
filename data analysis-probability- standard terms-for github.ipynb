{
 "cells": [
  {
   "cell_type": "markdown",
   "id": "20fce00f",
   "metadata": {},
   "source": [
    "### Data Analysis\n",
    "#### Probability, standard terms: sample space, trial, outcome, and event  \n",
    "<hr>\n",
    "https://github.com/ostad-ai/Machine-Learning\n",
    "<br> Explanation: https://www.pinterest.com/HamedShahHosseini/Machine-Learning/Data-Visualization"
   ]
  },
  {
   "cell_type": "markdown",
   "id": "6c88da5f",
   "metadata": {},
   "source": [
    "For set operaions in Python, see our repository for Python\n",
    "<br> https://github.com/ostad-ai/Python-Everything"
   ]
  },
  {
   "cell_type": "code",
   "execution_count": 17,
   "id": "a72defc7",
   "metadata": {},
   "outputs": [
    {
     "name": "stdout",
     "output_type": "stream",
     "text": [
      "Two events:\n",
      "{1, 3, 5} ; {2, 4, 6}\n",
      "The two events are mutually exclusive.\n"
     ]
    }
   ],
   "source": [
    "# Experiment: rolling a dice\n",
    "rolling_dice={1,2,3,4,5,6} #sample space\n",
    "odd_number_event={1,3,5}  #event of odd numbers\n",
    "# operator ^ does symmetric set difference\n",
    "even_number_event=rolling_dice^odd_number_event\n",
    "print('Two events:')\n",
    "print(odd_number_event,';',even_number_event)\n",
    "# operator & does intersection among the sets\n",
    "if odd_number_event & even_number_event==set():\n",
    "    print('The two events are mutually exclusive.')\n",
    "else:\n",
    "    print('The two events are NOT mutually exclusive.')"
   ]
  },
  {
   "cell_type": "code",
   "execution_count": 26,
   "id": "a755964d",
   "metadata": {},
   "outputs": [
    {
     "name": "stdout",
     "output_type": "stream",
     "text": [
      "Probability of {1, 6} is: 0.333\n"
     ]
    }
   ],
   "source": [
    "#assuming outcomes are equally likely\n",
    "def prob(event,sample_space):\n",
    "    return len(event)/len(sample_space)\n",
    "event={1,6}\n",
    "print(f'Probability of {event} is: {prob(event,rolling_dice):.3f}')    "
   ]
  },
  {
   "cell_type": "code",
   "execution_count": null,
   "id": "17ad0f9f",
   "metadata": {},
   "outputs": [],
   "source": []
  }
 ],
 "metadata": {
  "kernelspec": {
   "display_name": "Python 3 (ipykernel)",
   "language": "python",
   "name": "python3"
  },
  "language_info": {
   "codemirror_mode": {
    "name": "ipython",
    "version": 3
   },
   "file_extension": ".py",
   "mimetype": "text/x-python",
   "name": "python",
   "nbconvert_exporter": "python",
   "pygments_lexer": "ipython3",
   "version": "3.8.10"
  }
 },
 "nbformat": 4,
 "nbformat_minor": 5
}

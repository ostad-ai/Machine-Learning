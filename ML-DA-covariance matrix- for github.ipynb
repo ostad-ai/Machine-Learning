{
 "cells": [
  {
   "cell_type": "markdown",
   "id": "20fce00f",
   "metadata": {},
   "source": [
    "# ML, Data Analysis\n",
    "### Probability: covariance matrix\n",
    "\n",
    "The **covariance matrix** extends the idea of variance and covariance for n-dimensional random vectors. Thus, the vocariance matrix for an n-dimensional random vector $X$ is $n\\times n$ symmetric matrix where:\n",
    "- diagonal elements are variance of each component of vector $X$\n",
    "- off-diagonal elements are covariance between componets of vector $X$\n",
    "\n",
    "Formally, the **covariance matrix** $cov(X)$, also called **auto-covariance matrix**, for a random vector $\\boldsymbol{X}=[X_1,X_2,...,X_n]^T$ is computed by:\n",
    "<div style=\"margin-top: 6px;\"></div>\n",
    "$\\large cov(\\boldsymbol{X})=E[(\\boldsymbol{X}-E[\\boldsymbol{X}])(\\boldsymbol{X}-E(\\boldsymbol{X}))^T]$\n",
    "<br> Or equivalently:<br>\n",
    "$\\large cov(\\boldsymbol{X})=E[\\boldsymbol{X}\\boldsymbol{X}^T]-E[\\boldsymbol{X}]E[\\boldsymbol{X}]^T$\n",
    "<div style=\"margin-bottom: 6px;\"></div>\n",
    "\n",
    "where $E[\\boldsymbol{X}]$ is the mean vector of $\\boldsymbol{X}$. In fact, it is the vector of means of the components: \n",
    "<div style=\"margin-top: 6px;\"></div>\n",
    "$E[\\boldsymbol{X}]=[E[X_1],E[X_2],...,E[X_n]]^T$\n",
    "\n",
    "<br>Some properties of covariance matrix $cov(\\boldsymbol{X})$:\n",
    "1. **Symmetry:** $cov(\\boldsymbol{X})=cov(\\boldsymbol{X})^T$\n",
    "2. **Positive semi-definite:** All eigenvalues of matrix $cov(\\boldsymbol{X})$ are nonnegative. In other words, for any vector $v$, we have: \\boldsymbol{v}^Tcov(\\boldsymbol{X})\\boldsymbol{V}>=0.\n",
    "3. **Linear transformation:** For a matrix $A$ and random vector $X$, we have: $cov(A\\cdot \\boldsymbol{X})=A\\cdot cov(\\boldsymbol{X})\\cdot A^T$\n",
    "\n",
    "**Hint:** We can express the covariance of sum of two random vectors $\\boldsymbol{X}$ and $\\boldsymbol{Y}$ by:\n",
    "<div style=\"margin-top: 6px;\"></div>\n",
    "$\\large cov(\\boldsymbol{X}+\\boldsymbol{Y})=cov(\\boldsymbol{X})+cov(\\boldsymbol{Y})+\n",
    "cov(\\boldsymbol{X},\\boldsymbol{Y})+cov(\\boldsymbol{Y},\\boldsymbol{X})$\n",
    "<div style=\"margin-bottom: 6px;\"></div>\n",
    "\n",
    "where $cov(\\boldsymbol{X},\\boldsymbol{Y})$ is the **cross-covariance** of $\\boldsymbol{X}$ and $\\boldsymbol{Y}$ defined by:\n",
    "<div style=\"margin-top: 6px;\"></div>\n",
    "$cov(\\boldsymbol{X},\\boldsymbol{Y})=E[(\\boldsymbol{X}-E[\\boldsymbol{X}])(\\boldsymbol{Y}-E(\\boldsymbol{Y}))^T]$\n",
    "<br> Or equivalently:<br>\n",
    "$cov(\\boldsymbol{X},\\boldsymbol{Y})=E[\\boldsymbol{X}\\boldsymbol{Y}^T]-E[\\boldsymbol{X}]E[\\boldsymbol{Y}]^T$\n",
    "<div style=\"margin-bottom: 6px;\"></div>\n",
    "\n",
    "**Hint:** We also can show that: $cov(\\boldsymbol{Y},\\boldsymbol{X})=cov(\\boldsymbol{X},\\boldsymbol{Y})^T$.\n",
    "\n",
    "**Reminder:** For the topic on the **expected value**, see the relevent post on this repository.\n",
    "<hr>\n",
    "\n",
    "In the following, we compute the covariance matrix for a sample of two-dimensional random vector.\n",
    "\n",
    "<hr>\n",
    "https://github.com/ostad-ai/Machine-Learning\n",
    "<br> Explanation: https://www.pinterest.com/HamedShahHosseini/Machine-Learning/background-knowledge"
   ]
  },
  {
   "cell_type": "code",
   "execution_count": 1,
   "id": "abc3abf4",
   "metadata": {},
   "outputs": [],
   "source": [
    "# Import required modules\n",
    "import numpy as np\n",
    "import matplotlib.pyplot as plt"
   ]
  },
  {
   "cell_type": "code",
   "execution_count": 3,
   "id": "7c7a622d",
   "metadata": {},
   "outputs": [
    {
     "data": {
      "image/png": "[encoded data removed]",
      "text/plain": [
       "<Figure size 432x288 with 1 Axes>"
      ]
     },
     "metadata": {
      "needs_background": "light"
     },
     "output_type": "display_data"
    },
    {
     "name": "stdout",
     "output_type": "stream",
     "text": [
      "Cov. matrix, Manual calculation:\n",
      " [[0.76366245 0.69698309]\n",
      " [0.69698309 0.70075292]]\n",
      "\n",
      "Cov. matrix, NumPy result:\n",
      " [[0.76366245 0.69698309]\n",
      " [0.69698309 0.70075292]]\n"
     ]
    }
   ],
   "source": [
    "# Example dataset of 2D vectors (e.g., [x, y] coordinates)\n",
    "data = np.array([[1.0, 2.0],\n",
    "    [1.5, 2.5],\n",
    "    [2.0, 3.0],\n",
    "    [2.5, 3.5],\n",
    "    [3.0, 4.0]])  # Shape: (5 samples, 2 dimensions)\n",
    "noisy_data=data+np.random.normal(0, .15, data.shape)\n",
    "\n",
    "# Method 1: Manual calculation\n",
    "def manual_covariance(data,bias=False):\n",
    "    n = data.shape[0]\n",
    "    mean = np.mean(data, axis=0,keepdims=True)\n",
    "    centered = data - mean\n",
    "    cov=centered.T @ centered\n",
    "    if bias: cov/=n   # Population covariance\n",
    "    else:    cov/=(n-1) # Sample covariance\n",
    "    return cov\n",
    "\n",
    "# Method 2: Using NumPy; rowvar=False means each row is a sample\n",
    "# When bias=False, sample cov. is computed (1/(n-1) is used)\n",
    "numpy_cov = np.cov(noisy_data, rowvar=False, bias=False)\n",
    "\n",
    "# Plot the results\n",
    "plt.scatter(noisy_data[:, 0], noisy_data[:, 1])\n",
    "plt.xlabel('x'); plt.ylabel('y')\n",
    "plt.title('Noisy data points $(x_i,y_i)$')\n",
    "plt.axis('equal'); plt.show()\n",
    "print('Cov. matrix, Manual calculation:\\n', manual_covariance(noisy_data))\n",
    "print('\\nCov. matrix, NumPy result:\\n', numpy_cov)"
   ]
  },
  {
   "cell_type": "code",
   "execution_count": null,
   "id": "a6d476cc",
   "metadata": {},
   "outputs": [],
   "source": []
  },
  {
   "cell_type": "code",
   "execution_count": null,
   "id": "d41ebef9",
   "metadata": {},
   "outputs": [],
   "source": []
  }
 ],
 "metadata": {
  "kernelspec": {
   "display_name": "Python 3 (ipykernel)",
   "language": "python",
   "name": "python3"
  },
  "language_info": {
   "codemirror_mode": {
    "name": "ipython",
    "version": 3
   },
   "file_extension": ".py",
   "mimetype": "text/x-python",
   "name": "python",
   "nbconvert_exporter": "python",
   "pygments_lexer": "ipython3",
   "version": "3.11.1"
  }
 },
 "nbformat": 4,
 "nbformat_minor": 5
}

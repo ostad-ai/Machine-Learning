{
 "cells": [
  {
   "cell_type": "markdown",
   "id": "20fce00f",
   "metadata": {},
   "source": [
    "# Machine Learning\n",
    "### Agglomerative hierarchical clustering: single-linkage, complete-linkage, average-linkage, and Ward-linkage\n",
    "We may unify agglomerative hierarchical clustering in a single algorithmic framework that performs bottom-up cluster merging, \n",
    "- The only variation across methods (e.g., single, complete, average, Ward linkage) lies in how the **distance** between two clusters is computed.   \n",
    "\n",
    "The core procedure is identical for all variants:\n",
    "- Start with each data point as its own cluster.\n",
    "- Repeatedly merge the two closest clusters.\n",
    "- Update cluster representations.\n",
    "- Continue until one cluster remains (or a stopping criterion is met).\n",
    "    \n",
    "The **linkage** criterion—a function that defines inter-cluster **distance**—determines the clustering behavior:\n",
    "- Single: min pairwise distance  \n",
    "- Complete: max pairwise distance  \n",
    "- Average: mean pairwise distance  \n",
    "- Ward: increase in within-cluster sum of squares (WCSS)\n",
    "         \n",
    "<hr>\n",
    "\n",
    "In the following, we implement a **unified** agglomerative hierarchical clusteirng (HC) in a single Python function. This unified HC gets the data points and the linkage method and the desired `k`. Then, it outputs the lists `merges` and `clusters`. <br> In the rest of this Notebook:\n",
    "- We first test the **unified HC** for single-linkage clustering with two toy datasets to ensure this single-linkage works the same as the one implemented by the **Kruskal's algorithm** for minimum spanning tree (MST), expressed in the previous post.\n",
    "- Then, we use the **iris dataset** for working with the clustering algorithm with all linkage methods.\n",
    "- Finally, for comparsion we bring the code by **Scipy** for the four linkage clustering methods.\n",
    "\n",
    "<hr>\n",
    "\n",
    "**Reminder:** We said ealier that in the Iris dataset, there are three classes: Setosa, Versicolor, and Virginica.\n",
    "- **Setosa** is well-separated from the other two classes.\n",
    "- **Versicolor** and **Virginica** overlap significantly in the 4D feature space.     \n",
    "     \n",
    "<hr>\n",
    "\n",
    "https://github.com/ostad-ai/Machine-Learning\n",
    "<br> Explanation: https://www.pinterest.com/HamedShahHosseini/Machine-Learning/Data-Visualization"
   ]
  },
  {
   "cell_type": "code",
   "execution_count": 1,
   "id": "3d017dd4",
   "metadata": {},
   "outputs": [],
   "source": [
    "# Import required modules\n",
    "import numpy as np\n",
    "import pandas as pd\n",
    "from matplotlib import pyplot as plt"
   ]
  },
  {
   "cell_type": "code",
   "execution_count": 2,
   "id": "9b3915f3",
   "metadata": {},
   "outputs": [],
   "source": [
    "# Define a unified HC\n",
    "def unified_hc(points, k=None,linkage='single'):\n",
    "    points = np.array(points)\n",
    "    n = len(points)\n",
    "    clusters = [[i] for i in range(n)]  # store indices\n",
    "    \n",
    "    # Precompute pairwise distances (for non-Ward)\n",
    "    # Non-Ward: precompute distances\n",
    "    if linkage != 'ward':\n",
    "        dist_mat = np.linalg.norm(points[:, None] - points, axis=2)\n",
    "        if linkage == 'single':\n",
    "            link = lambda c1, c2: dist_mat[np.ix_(c1, c2)].min()\n",
    "        elif linkage == 'complete':\n",
    "            link = lambda c1, c2: dist_mat[np.ix_(c1, c2)].max()\n",
    "        elif linkage == 'average':\n",
    "            link = lambda c1, c2: dist_mat[np.ix_(c1, c2)].mean()\n",
    "    \n",
    "    # Ward: initialize state\n",
    "    else:\n",
    "        centroids = [points[i].copy() for i in range(n)]\n",
    "        sizes = [1] * n    \n",
    "    \n",
    "    merges = []\n",
    "    while len(clusters) > 1:\n",
    "        min_dist = float('inf')\n",
    "        best_pair=None\n",
    "        if linkage != 'ward':\n",
    "            for i in range(len(clusters)):\n",
    "                for j in range(i+1, len(clusters)):\n",
    "                    d = link(clusters[i], clusters[j])\n",
    "                    if d < min_dist:\n",
    "                        min_dist = d\n",
    "                        best_pair = (i, j)\n",
    "        else:\n",
    "            for i in range(len(clusters)):\n",
    "                for j in range(i+1, len(clusters)):\n",
    "                    ni, nj = sizes[i], sizes[j]\n",
    "                    ci, cj = centroids[i], centroids[j]\n",
    "                    dist_sq = np.sum((ci - cj)**2)\n",
    "                    wcss = (ni * nj / (ni + nj)) * dist_sq\n",
    "                    d = np.sqrt(wcss)\n",
    "                    if d < min_dist:\n",
    "                        min_dist = d\n",
    "                        best_pair =(i, j)       \n",
    "        \n",
    "        i, j = best_pair\n",
    "        new_cluster = clusters[i] + clusters[j]\n",
    "        merges.append((clusters[i], clusters[j], min_dist, len(new_cluster)))\n",
    "        # Remove larger index first to avoid shifting\n",
    "        del clusters[max(i, j)]\n",
    "        del clusters[min(i, j)]\n",
    "        clusters.append(new_cluster)\n",
    "        \n",
    "        # Compute new centroid and its size\n",
    "        if linkage=='ward':\n",
    "            new_size = sizes[i] + sizes[j]\n",
    "            new_centroid = (sizes[i] * centroids[i] + sizes[j] * centroids[j]) / new_size\n",
    "            # Update Ward state if needed\n",
    "            # Remove old centroids and sizes\n",
    "            del centroids[max(i, j)]\n",
    "            del centroids[min(i, j)]\n",
    "            del sizes[max(i, j)]\n",
    "            del sizes[min(i, j)]\n",
    "            centroids.append(new_centroid)\n",
    "            sizes.append(new_size)\n",
    "        \n",
    "        if k is not None:\n",
    "            if len(clusters)==k:\n",
    "                break\n",
    "    \n",
    "    return merges,clusters"
   ]
  },
  {
   "cell_type": "code",
   "execution_count": 3,
   "id": "e23ad0a4",
   "metadata": {},
   "outputs": [
    {
     "name": "stdout",
     "output_type": "stream",
     "text": [
      "--- Data points and assigned clusters ---\n",
      "point=[2 2], cluster=0\n",
      "point=[0 0], cluster=0\n",
      "point=[1 1], cluster=0\n",
      "point=[10 10], cluster=1\n",
      "point=[11 11], cluster=1\n"
     ]
    }
   ],
   "source": [
    "# Clustering with single-linkage\n",
    "# Simple 2D example\n",
    "points = np.array([\n",
    "    [0, 0],\n",
    "    [1, 1],\n",
    "    [2, 2],\n",
    "    [10, 10],\n",
    "    [11, 11] ])\n",
    "\n",
    "# Cluster points into two clusters\n",
    "merges,clusters=unified_hc(points,k=2)\n",
    "\n",
    "# Print points and their assigned clusters\n",
    "print('--- Data points and assigned clusters ---')\n",
    "for i,cluster in enumerate(clusters):\n",
    "    for id in cluster:\n",
    "        print(f'point={points[id]}, cluster={i}')"
   ]
  },
  {
   "cell_type": "code",
   "execution_count": 4,
   "id": "eb2e5eba",
   "metadata": {},
   "outputs": [
    {
     "name": "stdout",
     "output_type": "stream",
     "text": [
      "Cluster 0 with 10 samples\n",
      "Cluster 1 with 10 samples\n",
      "Cluster 2 with 10 samples\n"
     ]
    },
    {
     "data": {
      "image/png": "[encoded data removed]",
      "text/plain": [
       "<Figure size 640x480 with 1 Axes>"
      ]
     },
     "metadata": {},
     "output_type": "display_data"
    }
   ],
   "source": [
    "# Another clustering with single-linkage\n",
    "# Example of three normal distributions \n",
    "# Three clear clusters\n",
    "cluster1 = np.random.normal([0, 0], 0.5, (10, 2))\n",
    "cluster2 = np.random.normal([5, 5], 0.5, (10, 2))  \n",
    "cluster3 = np.random.normal([0, 5], 0.5, (10, 2))\n",
    "\n",
    "points3 = np.vstack([cluster1, cluster2, cluster3])\n",
    "n_points3 = len(points3)\n",
    "#--------\n",
    "colors3=np.array(['green','orange','red'])\n",
    "_,clusters3 = unified_hc(points3, k=3)\n",
    "labels3=np.zeros(len(points3),dtype='int')\n",
    "for i, cluster in enumerate(clusters3):\n",
    "    print(f'Cluster {i} with {len(cluster)} samples')\n",
    "    for id in cluster:\n",
    "        labels3[id]=i\n",
    "plt.scatter(points3[:,0],points3[:,1],c=colors3[labels3])\n",
    "plt.title('Single-linkage clustering for three normal distributions')\n",
    "plt.show()"
   ]
  },
  {
   "cell_type": "markdown",
   "id": "869999c2",
   "metadata": {},
   "source": [
    "# Downloading Iris dataset to test our single-linkage clustering"
   ]
  },
  {
   "cell_type": "code",
   "execution_count": 5,
   "id": "7b34f654",
   "metadata": {},
   "outputs": [],
   "source": [
    "# Download the iris dataset into a panda dataframe\n",
    "df=pd.read_csv(\"https://raw.githubusercontent.com/ostad-ai/Machine-Learning/refs/heads/main/iris.csv\")    "
   ]
  },
  {
   "cell_type": "code",
   "execution_count": 6,
   "id": "b0551ff0",
   "metadata": {},
   "outputs": [
    {
     "data": {
      "text/html": [
       "<div>\n",
       "<style scoped>\n",
       "    .dataframe tbody tr th:only-of-type {\n",
       "        vertical-align: middle;\n",
       "    }\n",
       "\n",
       "    .dataframe tbody tr th {\n",
       "        vertical-align: top;\n",
       "    }\n",
       "\n",
       "    .dataframe thead th {\n",
       "        text-align: right;\n",
       "    }\n",
       "</style>\n",
       "<table border=\"1\" class=\"dataframe\">\n",
       "  <thead>\n",
       "    <tr style=\"text-align: right;\">\n",
       "      <th></th>\n",
       "      <th>Sepal Length</th>\n",
       "      <th>Sepal Width</th>\n",
       "      <th>Petal Length</th>\n",
       "      <th>Petal Width</th>\n",
       "      <th>Class</th>\n",
       "    </tr>\n",
       "  </thead>\n",
       "  <tbody>\n",
       "    <tr>\n",
       "      <th>0</th>\n",
       "      <td>5.1</td>\n",
       "      <td>3.5</td>\n",
       "      <td>1.4</td>\n",
       "      <td>0.2</td>\n",
       "      <td>Iris-setosa</td>\n",
       "    </tr>\n",
       "    <tr>\n",
       "      <th>1</th>\n",
       "      <td>4.9</td>\n",
       "      <td>3.0</td>\n",
       "      <td>1.4</td>\n",
       "      <td>0.2</td>\n",
       "      <td>Iris-setosa</td>\n",
       "    </tr>\n",
       "    <tr>\n",
       "      <th>2</th>\n",
       "      <td>4.7</td>\n",
       "      <td>3.2</td>\n",
       "      <td>1.3</td>\n",
       "      <td>0.2</td>\n",
       "      <td>Iris-setosa</td>\n",
       "    </tr>\n",
       "    <tr>\n",
       "      <th>3</th>\n",
       "      <td>4.6</td>\n",
       "      <td>3.1</td>\n",
       "      <td>1.5</td>\n",
       "      <td>0.2</td>\n",
       "      <td>Iris-setosa</td>\n",
       "    </tr>\n",
       "    <tr>\n",
       "      <th>4</th>\n",
       "      <td>5.0</td>\n",
       "      <td>3.6</td>\n",
       "      <td>1.4</td>\n",
       "      <td>0.2</td>\n",
       "      <td>Iris-setosa</td>\n",
       "    </tr>\n",
       "  </tbody>\n",
       "</table>\n",
       "</div>"
      ],
      "text/plain": [
       "   Sepal Length  Sepal Width  Petal Length  Petal Width        Class\n",
       "0           5.1          3.5           1.4          0.2  Iris-setosa\n",
       "1           4.9          3.0           1.4          0.2  Iris-setosa\n",
       "2           4.7          3.2           1.3          0.2  Iris-setosa\n",
       "3           4.6          3.1           1.5          0.2  Iris-setosa\n",
       "4           5.0          3.6           1.4          0.2  Iris-setosa"
      ]
     },
     "execution_count": 6,
     "metadata": {},
     "output_type": "execute_result"
    }
   ],
   "source": [
    "df.head()"
   ]
  },
  {
   "cell_type": "markdown",
   "id": "dd8e3d0a",
   "metadata": {},
   "source": [
    "# Single-linkage, complete-linkage, average-linkage, and Ward-linkage\n",
    "Here, we use the **iris** dataset and test it with four **agglomerative hierarchical** clusterings.\n",
    "- **Single-linkage** clustering cannot recover three clusters in the Iris dataset due to the overlap between **versicolor** and **virginica**.\n",
    "- **Complete-linkage**, **average-linkage**, and **Ward-linkage** clusterings perform better in face of overlapping clusters."
   ]
  },
  {
   "cell_type": "code",
   "execution_count": 7,
   "id": "ffb92890",
   "metadata": {},
   "outputs": [
    {
     "name": "stdout",
     "output_type": "stream",
     "text": [
      "Clustering of Iris into three clusters by single-linkage\n",
      "No. of samples in each cluster:\n",
      "Cluster 0 with 2 samples\n",
      "Cluster 1 with 50 samples\n",
      "Cluster 2 with 98 samples\n",
      "Clustering of Iris into three clusters by complete-linkage\n",
      "No. of samples in each cluster:\n",
      "Cluster 0 with 28 samples\n",
      "Cluster 1 with 50 samples\n",
      "Cluster 2 with 72 samples\n",
      "Clustering of Iris into three clusters by average-linkage\n",
      "No. of samples in each cluster:\n",
      "Cluster 0 with 50 samples\n",
      "Cluster 1 with 36 samples\n",
      "Cluster 2 with 64 samples\n",
      "Clustering of Iris into three clusters by ward-linkage\n",
      "No. of samples in each cluster:\n",
      "Cluster 0 with 50 samples\n",
      "Cluster 1 with 36 samples\n",
      "Cluster 2 with 64 samples\n"
     ]
    }
   ],
   "source": [
    "# Clsutering with the four linkage methods\n",
    "# Example with iris data set\n",
    "# Get the feature vectors in rows\n",
    "xs=df.values[:,:4].astype('float')\n",
    "\n",
    "# Ask the clusterings to cluster into three clusters\n",
    "for link_type in ['single','complete','average','ward']:\n",
    "    _,clusters_iris = unified_hc(xs, k=3,linkage=link_type)\n",
    "    labels_iris=np.zeros(xs.shape[0],dtype='int')\n",
    "\n",
    "    # Two clusters merge into one for single-linkage only\n",
    "    print(f'Clustering of Iris into three clusters by {link_type}-linkage')\n",
    "    print('No. of samples in each cluster:')\n",
    "    for i,cluster in enumerate(clusters_iris):\n",
    "        print(f'Cluster {i} with {len(cluster)} samples')\n",
    "        for id in cluster:\n",
    "            labels_iris[id]=i"
   ]
  },
  {
   "cell_type": "markdown",
   "id": "ba85d75c",
   "metadata": {},
   "source": [
    "# Linkage clustering of scipy"
   ]
  },
  {
   "cell_type": "code",
   "execution_count": 8,
   "id": "99429bcb",
   "metadata": {},
   "outputs": [
    {
     "name": "stdout",
     "output_type": "stream",
     "text": [
      "single-linkage: (array([1, 2, 3], dtype=int32), array([50,  2, 98], dtype=int64))\n",
      "complete-linkage: (array([1, 2, 3], dtype=int32), array([72, 28, 50], dtype=int64))\n",
      "average-linkage: (array([1, 2, 3], dtype=int32), array([50, 36, 64], dtype=int64))\n",
      "ward-linkage: (array([1, 2, 3], dtype=int32), array([50, 36, 64], dtype=int64))\n"
     ]
    }
   ],
   "source": [
    "# For double-checking, uncomment the code below to see\n",
    "# the results from Scipy hierarchical clustering\n",
    "# for iris dataset\n",
    "#---------------------------------\n",
    "from sklearn.datasets import load_iris\n",
    "from scipy.cluster.hierarchy import linkage, fcluster\n",
    "\n",
    "iris = load_iris()\n",
    "X = iris.data\n",
    "for link_type in ['single','complete','average','ward']:\n",
    "    Z = linkage(X, method=link_type)\n",
    "    labels2 = fcluster(Z, t=3, criterion='maxclust')  # force 3 clusters\n",
    "    print(f'{link_type}-linkage: {np.unique(labels2, return_counts=True)}')"
   ]
  },
  {
   "cell_type": "markdown",
   "id": "381e8235",
   "metadata": {},
   "source": [
    "<hr style=\"height:3px; background-color:lightgreen\">\n",
    "\n",
    "## Extra: Display the iris dataset with two of its features"
   ]
  },
  {
   "cell_type": "code",
   "execution_count": 9,
   "id": "562a7fc6",
   "metadata": {},
   "outputs": [
    {
     "data": {
      "text/html": [
       "<div>\n",
       "<style scoped>\n",
       "    .dataframe tbody tr th:only-of-type {\n",
       "        vertical-align: middle;\n",
       "    }\n",
       "\n",
       "    .dataframe tbody tr th {\n",
       "        vertical-align: top;\n",
       "    }\n",
       "\n",
       "    .dataframe thead th {\n",
       "        text-align: right;\n",
       "    }\n",
       "</style>\n",
       "<table border=\"1\" class=\"dataframe\">\n",
       "  <thead>\n",
       "    <tr style=\"text-align: right;\">\n",
       "      <th></th>\n",
       "      <th>Sepal Length</th>\n",
       "      <th>Sepal Width</th>\n",
       "      <th>Petal Length</th>\n",
       "      <th>Petal Width</th>\n",
       "      <th>Class</th>\n",
       "      <th>ClassNumber</th>\n",
       "    </tr>\n",
       "  </thead>\n",
       "  <tbody>\n",
       "    <tr>\n",
       "      <th>0</th>\n",
       "      <td>5.1</td>\n",
       "      <td>3.5</td>\n",
       "      <td>1.4</td>\n",
       "      <td>0.2</td>\n",
       "      <td>Iris-setosa</td>\n",
       "      <td>0</td>\n",
       "    </tr>\n",
       "    <tr>\n",
       "      <th>1</th>\n",
       "      <td>4.9</td>\n",
       "      <td>3.0</td>\n",
       "      <td>1.4</td>\n",
       "      <td>0.2</td>\n",
       "      <td>Iris-setosa</td>\n",
       "      <td>0</td>\n",
       "    </tr>\n",
       "    <tr>\n",
       "      <th>2</th>\n",
       "      <td>4.7</td>\n",
       "      <td>3.2</td>\n",
       "      <td>1.3</td>\n",
       "      <td>0.2</td>\n",
       "      <td>Iris-setosa</td>\n",
       "      <td>0</td>\n",
       "    </tr>\n",
       "    <tr>\n",
       "      <th>3</th>\n",
       "      <td>4.6</td>\n",
       "      <td>3.1</td>\n",
       "      <td>1.5</td>\n",
       "      <td>0.2</td>\n",
       "      <td>Iris-setosa</td>\n",
       "      <td>0</td>\n",
       "    </tr>\n",
       "    <tr>\n",
       "      <th>4</th>\n",
       "      <td>5.0</td>\n",
       "      <td>3.6</td>\n",
       "      <td>1.4</td>\n",
       "      <td>0.2</td>\n",
       "      <td>Iris-setosa</td>\n",
       "      <td>0</td>\n",
       "    </tr>\n",
       "  </tbody>\n",
       "</table>\n",
       "</div>"
      ],
      "text/plain": [
       "   Sepal Length  Sepal Width  Petal Length  Petal Width        Class  \\\n",
       "0           5.1          3.5           1.4          0.2  Iris-setosa   \n",
       "1           4.9          3.0           1.4          0.2  Iris-setosa   \n",
       "2           4.7          3.2           1.3          0.2  Iris-setosa   \n",
       "3           4.6          3.1           1.5          0.2  Iris-setosa   \n",
       "4           5.0          3.6           1.4          0.2  Iris-setosa   \n",
       "\n",
       "   ClassNumber  \n",
       "0            0  \n",
       "1            0  \n",
       "2            0  \n",
       "3            0  \n",
       "4            0  "
      ]
     },
     "execution_count": 9,
     "metadata": {},
     "output_type": "execute_result"
    }
   ],
   "source": [
    "# Add a new column to dataframe as ClassNumber \n",
    "# to give the classses in numbers {0,1,2}\n",
    "classNames=df['Class'].unique()\n",
    "df['ClassNumber']=-1\n",
    "for i,className in enumerate(classNames):\n",
    "    idxs=np.where(df.values[:,4]==className)\n",
    "    df['ClassNumber'].values[idxs]=i\n",
    "df.head()"
   ]
  },
  {
   "cell_type": "code",
   "execution_count": 10,
   "id": "115fb2be",
   "metadata": {},
   "outputs": [
    {
     "data": {
      "image/png": "[encoded data removed]",
      "text/plain": [
       "<Figure size 640x480 with 1 Axes>"
      ]
     },
     "metadata": {},
     "output_type": "display_data"
    }
   ],
   "source": [
    "# Now, Display the iris dataset with two features\n",
    "# Get data pairs (x,y)\n",
    "xs=df.values[:,:4].astype('float')\n",
    "ys=df.values[:,-1].astype('int')\n",
    "colors=np.array(['red','yellow','blue'])\n",
    "features=list(df.columns[:4])\n",
    "f_indices=0,1\n",
    "# Plot the data points and their class with colors\n",
    "plt.scatter(xs[:,f_indices[0]],xs[:,f_indices[1]],c=colors[ys])\n",
    "plt.title('Iris dataset in 2D')\n",
    "plt.xlabel(features[f_indices[0]])\n",
    "plt.ylabel(features[f_indices[1]])\n",
    "plt.show()"
   ]
  },
  {
   "cell_type": "code",
   "execution_count": null,
   "id": "d3d85ccd",
   "metadata": {},
   "outputs": [],
   "source": []
  }
 ],
 "metadata": {
  "kernelspec": {
   "display_name": "Python 3 (ipykernel)",
   "language": "python",
   "name": "python3"
  },
  "language_info": {
   "codemirror_mode": {
    "name": "ipython",
    "version": 3
   },
   "file_extension": ".py",
   "mimetype": "text/x-python",
   "name": "python",
   "nbconvert_exporter": "python",
   "pygments_lexer": "ipython3",
   "version": "3.11.1"
  }
 },
 "nbformat": 4,
 "nbformat_minor": 5
}
